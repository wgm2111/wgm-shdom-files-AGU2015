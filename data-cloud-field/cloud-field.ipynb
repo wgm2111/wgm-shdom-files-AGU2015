{
 "cells": [
  {
   "cell_type": "markdown",
   "metadata": {},
   "source": [
    "#3D cloud field \n",
    "\n",
    "This folder conatains the 3D cloud field from which slice was taken for showing a case of the single-scattering adjoint in 2D.  The purpose of this notebook will be to plot the 3D cloud field. \n"
   ]
  },
  {
   "cell_type": "code",
   "execution_count": 1,
   "metadata": {
    "collapsed": false
   },
   "outputs": [],
   "source": [
    "%gui wx\n",
    "\n",
    "# Imports\n",
    "import numpy as np\n",
    "import scipy as sp\n",
    "from enthought.mayavi import mlab\n",
    "\n",
    "import pandas as pd\n",
    "\n"
   ]
  },
  {
   "cell_type": "code",
   "execution_count": null,
   "metadata": {
    "collapsed": true
   },
   "outputs": [],
   "source": []
  },
  {
   "cell_type": "code",
   "execution_count": 2,
   "metadata": {
    "collapsed": false
   },
   "outputs": [],
   "source": [
    "# Utility functions\n",
    "\n",
    "def print_head(fname, Nlines=10, indent=\"\\t\"):\n",
    "    \"Print the head of the file.\"\n",
    "    \n",
    "    # Print a message and then the first N lines\n",
    "    print(\"Showing head: {}\".format(fname))\n",
    "    for i, line in zip(range(Nlines), open(fname, 'r')):\n",
    "        print(indent + line.strip())\n",
    "        \n",
    "    print('\\n')\n",
    "    "
   ]
  },
  {
   "cell_type": "code",
   "execution_count": 3,
   "metadata": {
    "collapsed": false
   },
   "outputs": [
    {
     "name": "stdout",
     "output_type": "stream",
     "text": [
      "cloud-field.ipynb  \u001b[0m\u001b[01;35mcloud-field-slice.jpg\u001b[0m  les0822nh15t13.lwc~\r\n",
      "\u001b[01;35mcloud-field.jpg\u001b[0m    les0822nh15t13.lwc\r\n"
     ]
    }
   ],
   "source": [
    "ls"
   ]
  },
  {
   "cell_type": "markdown",
   "metadata": {},
   "source": [
    "# Looking at the data files"
   ]
  },
  {
   "cell_type": "code",
   "execution_count": 4,
   "metadata": {
    "collapsed": false,
    "scrolled": true
   },
   "outputs": [
    {
     "name": "stdout",
     "output_type": "stream",
     "text": [
      "Showing head: les0822nh15t13.lwc\n",
      "\t! 2  parameter LWC file\n",
      "\t! NX  NY  NZ\n",
      "\t! 320 320 101\n",
      "\t!\n",
      "\t! DX     DY\n",
      "\t! 0.0625 0.0625\n",
      "\t!\n",
      "\t! Zlevels\n",
      "\t! -0.0087  0.0095  0.0315  0.0574  0.0878  0.1245  0.1650  0.2050  0.2450  0.2850  0.3250  0.3650  0.4050  0.4450  0.4850  0.5250  0.5650  0.6050  0.6450  0.6850  0.7250  0.7650  0.8050  0.8450  0.8850  0.9250  0.9650  1.0050  1.0450  1.0850  1.1250  1.1650  1.2050  1.2450  1.2850  1.3250  1.3650  1.4050  1.4450  1.4850  1.5250  1.5650  1.6050  1.6450  1.6855  1.7222  1.7526  1.7780  1.7992  1.8190  1.8390  1.8590  1.8790  1.8990  1.9190  1.9390  1.9590  1.9790  1.9990  2.0190  2.0388  2.0600  2.0854  2.1158  2.1525  2.1930  2.2330  2.2730  2.3130  2.3530  2.3930  2.4330  2.4730  2.5130  2.5530  2.5930  2.6330  2.6730  2.7130  2.7530  2.7930  2.8330  2.8730  2.9130  2.9530  2.9930  3.0330  3.0730  3.1130  3.1530  3.1930  3.2330  3.2730  3.3130  3.3530  3.3930  3.4330  3.4730  3.5130  3.5530  3.5930\n",
      "\t!\n",
      "\t! Temperatures\n",
      "\t! 298.15 297.97 297.73 297.48 297.19 296.85 296.48 296.11 295.74 295.38 295.03 294.68 294.34 294.02 293.72 293.44 293.17 292.90 292.63 292.36 292.10 291.84 291.58 291.32 291.06 290.80 290.55 290.30 290.05 289.80 289.56 289.31 289.06 288.82 288.57 288.33 288.09 287.85 287.62 287.39 287.15 286.92 286.68 286.45 286.21 285.99 285.81 285.66 285.53 285.42 285.30 285.17 285.05 284.94 284.82 284.70 284.58 284.46 284.34 284.22 284.10 283.98 283.83 283.65 283.44 283.21 283.00 282.81 282.65 282.52 282.46 282.47 282.57 282.75 283.00 283.26 283.50 283.67 283.78 283.82 283.81 283.76 283.69 283.60 283.50 283.40 283.29 283.20 283.10 283.00 282.88 282.73 282.55 282.35 282.13 281.92 281.72 281.51 281.30 281.05 280.76\n",
      "\t!\n",
      "\tIX  IY  IZ LWC     Reff\n",
      "\t1   1  47 0.0100  3.82\n",
      "\n",
      "\n"
     ]
    }
   ],
   "source": [
    "# The log file\n",
    "flwc = 'les0822nh15t13.lwc'\n",
    "print_head(flwc, Nlines=15)"
   ]
  },
  {
   "cell_type": "code",
   "execution_count": 5,
   "metadata": {
    "collapsed": false
   },
   "outputs": [
    {
     "name": "stdout",
     "output_type": "stream",
     "text": [
      "   IX  IY  IZ     LWC  Reff\n",
      "0   1   1  47  0.0100  3.82\n",
      "1   1   1  48  0.0263  5.27\n",
      "2   1   1  49  0.0300  5.51\n",
      "3   1   1  50  0.0186  4.69\n",
      "4   1  53  66  0.0058  3.18\n"
     ]
    }
   ],
   "source": [
    "# Read the grid parameters\n",
    "header_lines = []\n",
    "for line in open(flwc, 'r'):\n",
    "    line = line.strip()\n",
    "    if line[0] == '!': \n",
    "        header_lines.append(line)\n",
    "    else:\n",
    "        break\n",
    "        \n",
    "lwc_frame = pd.read_csv(flwc, quoting=3, delim_whitespace=True, skiprows=13)\n",
    "print(lwc_frame[:5])        \n",
    "\n"
   ]
  },
  {
   "cell_type": "code",
   "execution_count": 6,
   "metadata": {
    "collapsed": false
   },
   "outputs": [],
   "source": [
    "# Get the variables \n",
    "NX = 320\n",
    "DX = 0.0625\n",
    "X = np.arange(NX) * DX\n",
    "NY = 320\n",
    "DY = 0.0625\n",
    "Y = np.arange(NY) * DY\n",
    "NZ = 101\n",
    "Z = np.array(\"-0.0087  0.0095  0.0315  0.0574  0.0878  0.1245  0.1650  0.2050  0.2450  0.2850  0.3250  0.3650  0.4050  0.4450  0.4850  0.5250  0.5650  0.6050  0.6450  0.6850  0.7250  0.7650  0.8050  0.8450  0.8850  0.9250  0.9650  1.0050  1.0450  1.0850  1.1250  1.1650  1.2050  1.2450  1.2850  1.3250  1.3650  1.4050  1.4450  1.4850  1.5250  1.5650  1.6050  1.6450  1.6855  1.7222  1.7526  1.7780  1.7992  1.8190  1.8390  1.8590  1.8790  1.8990  1.9190  1.9390  1.9590  1.9790  1.9990  2.0190  2.0388  2.0600  2.0854  2.1158  2.1525  2.1930  2.2330  2.2730  2.3130  2.3530  2.3930  2.4330  2.4730  2.5130  2.5530  2.5930  2.6330  2.6730  2.7130  2.7530  2.7930  2.8330  2.8730  2.9130  2.9530  2.9930  3.0330  3.0730  3.1130  3.1530  3.1930  3.2330  3.2730  3.3130  3.3530  3.3930  3.4330  3.4730  3.5130  3.5530  3.5930\".split(), dtype=\"f8\")\n",
    "assert NZ == Z.size\n",
    "\n",
    "\n",
    "# Experimenting to make a plot\n",
    "ix = sp.array(lwc_frame['IX']-1, dtype=int)\n",
    "iy = sp.array(lwc_frame['IY']-1, dtype=int)\n",
    "iz = sp.array(lwc_frame['IZ']-1, dtype=int)\n",
    "xx = X[ix]\n",
    "yy = Y[iy]\n",
    "zz = Z[iz]\n",
    "\n",
    "#Make the liquid water content\n",
    "lwc = np.array(lwc_frame['LWC'], dtype='f8')\n",
    "\n",
    "# Make Structured data\n",
    "xgrid, ygrid, zgrid = sp.meshgrid(X, Y, Z, indexing='ij')\n",
    "lwcgrid = xgrid*0\n",
    "for _ix, _iy, _iz, _lwc in zip(ix, iy, iz, lwc):\n",
    "    lwcgrid[_ix, _iy, _iz] = _lwc\n",
    "    \n",
    "# Make a modis grid\n",
    "spacing_modis = .25\n",
    "_xmod = np.linspace(0,20, 20 / spacing_modis)\n",
    "_zmod = np.linspace(0,3, 3/spacing_modis) #sp.array([Z.min(), Z.max()])\n",
    "xmod, ymod, zmod = sp.meshgrid(_xmod, _xmod, _zmod, indexing='ij')\n",
    "\n"
   ]
  },
  {
   "cell_type": "code",
   "execution_count": 7,
   "metadata": {
    "collapsed": false
   },
   "outputs": [
    {
     "data": {
      "text/plain": [
       "19.9375"
      ]
     },
     "execution_count": 7,
     "metadata": {},
     "output_type": "execute_result"
    }
   ],
   "source": [
    "lwcgrid.min()\n",
    "Y.max()"
   ]
  },
  {
   "cell_type": "code",
   "execution_count": 8,
   "metadata": {
    "collapsed": false
   },
   "outputs": [
    {
     "data": {
      "text/plain": [
       "8.4375"
      ]
     },
     "execution_count": 8,
     "metadata": {},
     "output_type": "execute_result"
    }
   ],
   "source": [
    "Y[135]"
   ]
  },
  {
   "cell_type": "code",
   "execution_count": null,
   "metadata": {
    "collapsed": true
   },
   "outputs": [],
   "source": []
  },
  {
   "cell_type": "code",
   "execution_count": 18,
   "metadata": {
    "collapsed": false
   },
   "outputs": [],
   "source": [
    "mlab.figure(1, bgcolor=(1,1,1), size=(2040,1440))\n",
    "mlab.clf()\n",
    "\n",
    "\n",
    "\n",
    "points = mlab.points3d(xx, yy, zz, lwc, color=(.9,.9,.9), opacity=.5, resolution=8, mask_points=12, scale_factor=.3)\n",
    "#sufrace_grid_modis = mlab.points3d(xmod[..., 1], ymod[..., 1], zmod[...,1], mode='2dcross', color=(0.1, 0.1, 0.1), opacity=.1)\n",
    "\n",
    "#mlab.contour3d(xgrid, ygrid, zgrid, lwcgrid, contours=3)\n",
    "\n",
    "\n",
    "sufrace_grid_modis = mlab.mesh(xmod[..., 0], ymod[..., 0], zmod[...,0], representation='wireframe', \n",
    "                               color=(0.3, 0.3, 0.5))\n",
    "back1 = mlab.mesh(xmod[0,...], ymod[0,...], zmod[0,...], representation='wireframe', \n",
    "                  color=(0.3, 0.3, .5),)\n",
    "back2 = mlab.mesh(xmod[:,0,:], ymod[:,0,:], zmod[:,0,:], representation='wireframe', \n",
    "                  color=(0.3, 0.3, .5),)\n",
    "#source = mlab.pipeline.scalar_field(xgrid, ygrid, zgrid, lwcgrid)\n",
    "#vol = mlab.pipeline.volume(source, \n",
    "#                           vmin = lwc.min() + .5 * (lwc.max()-lwc.min()), \n",
    "#                           vmax = lwc.min() + .9 * (lwc.max()-lwc.min()))\n",
    "\n",
    "mlab.savefig(\"cloud-field.jpg\", magnification=4)\n",
    "\n",
    "\n",
    "mlab.mesh(xgrid[:,135,:], ygrid[:,135,:], zgrid[:,135,:], scalars=lwcgrid[:,135,:], opacity=.5, colormap='gray')\n",
    "mlab.savefig(\"cloud-field-with-slice.jpg\", magnification=4)\n",
    "\n",
    "mlab.show()\n",
    "#points = mlab.points3d(xx, yy, zz, lwc, mode='point')"
   ]
  },
  {
   "cell_type": "code",
   "execution_count": null,
   "metadata": {
    "collapsed": false
   },
   "outputs": [],
   "source": [
    "\n"
   ]
  },
  {
   "cell_type": "code",
   "execution_count": null,
   "metadata": {
    "collapsed": true
   },
   "outputs": [],
   "source": []
  },
  {
   "cell_type": "code",
   "execution_count": null,
   "metadata": {
    "collapsed": true
   },
   "outputs": [],
   "source": []
  },
  {
   "cell_type": "code",
   "execution_count": null,
   "metadata": {
    "collapsed": true
   },
   "outputs": [],
   "source": []
  }
 ],
 "metadata": {
  "kernelspec": {
   "display_name": "Python 2",
   "language": "python",
   "name": "python2"
  },
  "language_info": {
   "codemirror_mode": {
    "name": "ipython",
    "version": 2
   },
   "file_extension": ".py",
   "mimetype": "text/x-python",
   "name": "python",
   "nbconvert_exporter": "python",
   "pygments_lexer": "ipython2",
   "version": "2.7.3"
  }
 },
 "nbformat": 4,
 "nbformat_minor": 0
}
